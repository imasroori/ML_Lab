{
 "cells": [
  {
   "cell_type": "markdown",
   "id": "963599e5",
   "metadata": {},
   "source": [
    "# House Price"
   ]
  },
  {
   "cell_type": "code",
   "execution_count": 1,
   "id": "d11f61bc",
   "metadata": {},
   "outputs": [],
   "source": [
    "import numpy as np\n",
    "import pandas as pd\n",
    "import matplotlib.pyplot as plt"
   ]
  },
  {
   "cell_type": "code",
   "execution_count": 50,
   "id": "a78f1e57",
   "metadata": {},
   "outputs": [],
   "source": [
    "data = pd.read_csv('./housePrice.csv')"
   ]
  },
  {
   "cell_type": "code",
   "execution_count": 52,
   "id": "c0908c26",
   "metadata": {},
   "outputs": [
    {
     "data": {
      "text/html": [
       "<div>\n",
       "<style scoped>\n",
       "    .dataframe tbody tr th:only-of-type {\n",
       "        vertical-align: middle;\n",
       "    }\n",
       "\n",
       "    .dataframe tbody tr th {\n",
       "        vertical-align: top;\n",
       "    }\n",
       "\n",
       "    .dataframe thead th {\n",
       "        text-align: right;\n",
       "    }\n",
       "</style>\n",
       "<table border=\"1\" class=\"dataframe\">\n",
       "  <thead>\n",
       "    <tr style=\"text-align: right;\">\n",
       "      <th></th>\n",
       "      <th>Area</th>\n",
       "      <th>Room</th>\n",
       "      <th>Parking</th>\n",
       "      <th>Warehouse</th>\n",
       "      <th>Elevator</th>\n",
       "      <th>Address</th>\n",
       "      <th>Price</th>\n",
       "      <th>Price(USD)</th>\n",
       "    </tr>\n",
       "  </thead>\n",
       "  <tbody>\n",
       "    <tr>\n",
       "      <th>0</th>\n",
       "      <td>63</td>\n",
       "      <td>1</td>\n",
       "      <td>True</td>\n",
       "      <td>True</td>\n",
       "      <td>True</td>\n",
       "      <td>Shahran</td>\n",
       "      <td>1.850000e+09</td>\n",
       "      <td>61666.67</td>\n",
       "    </tr>\n",
       "    <tr>\n",
       "      <th>1</th>\n",
       "      <td>60</td>\n",
       "      <td>1</td>\n",
       "      <td>True</td>\n",
       "      <td>True</td>\n",
       "      <td>True</td>\n",
       "      <td>Shahran</td>\n",
       "      <td>1.850000e+09</td>\n",
       "      <td>61666.67</td>\n",
       "    </tr>\n",
       "    <tr>\n",
       "      <th>2</th>\n",
       "      <td>79</td>\n",
       "      <td>2</td>\n",
       "      <td>True</td>\n",
       "      <td>True</td>\n",
       "      <td>True</td>\n",
       "      <td>Pardis</td>\n",
       "      <td>5.500000e+08</td>\n",
       "      <td>18333.33</td>\n",
       "    </tr>\n",
       "    <tr>\n",
       "      <th>3</th>\n",
       "      <td>95</td>\n",
       "      <td>2</td>\n",
       "      <td>True</td>\n",
       "      <td>True</td>\n",
       "      <td>True</td>\n",
       "      <td>Shahrake Qods</td>\n",
       "      <td>9.025000e+08</td>\n",
       "      <td>30083.33</td>\n",
       "    </tr>\n",
       "    <tr>\n",
       "      <th>4</th>\n",
       "      <td>123</td>\n",
       "      <td>2</td>\n",
       "      <td>True</td>\n",
       "      <td>True</td>\n",
       "      <td>True</td>\n",
       "      <td>Shahrake Gharb</td>\n",
       "      <td>7.000000e+09</td>\n",
       "      <td>233333.33</td>\n",
       "    </tr>\n",
       "  </tbody>\n",
       "</table>\n",
       "</div>"
      ],
      "text/plain": [
       "  Area  Room  Parking  Warehouse  Elevator         Address         Price  \\\n",
       "0   63     1     True       True      True         Shahran  1.850000e+09   \n",
       "1   60     1     True       True      True         Shahran  1.850000e+09   \n",
       "2   79     2     True       True      True          Pardis  5.500000e+08   \n",
       "3   95     2     True       True      True   Shahrake Qods  9.025000e+08   \n",
       "4  123     2     True       True      True  Shahrake Gharb  7.000000e+09   \n",
       "\n",
       "   Price(USD)  \n",
       "0    61666.67  \n",
       "1    61666.67  \n",
       "2    18333.33  \n",
       "3    30083.33  \n",
       "4   233333.33  "
      ]
     },
     "execution_count": 52,
     "metadata": {},
     "output_type": "execute_result"
    }
   ],
   "source": [
    "data.head()"
   ]
  },
  {
   "cell_type": "code",
   "execution_count": 60,
   "id": "16e8ecc3",
   "metadata": {},
   "outputs": [
    {
     "data": {
      "text/html": [
       "<div>\n",
       "<style scoped>\n",
       "    .dataframe tbody tr th:only-of-type {\n",
       "        vertical-align: middle;\n",
       "    }\n",
       "\n",
       "    .dataframe tbody tr th {\n",
       "        vertical-align: top;\n",
       "    }\n",
       "\n",
       "    .dataframe thead th {\n",
       "        text-align: right;\n",
       "    }\n",
       "</style>\n",
       "<table border=\"1\" class=\"dataframe\">\n",
       "  <thead>\n",
       "    <tr style=\"text-align: right;\">\n",
       "      <th></th>\n",
       "      <th>Area</th>\n",
       "      <th>Room</th>\n",
       "      <th>Price</th>\n",
       "      <th>Price(USD)</th>\n",
       "    </tr>\n",
       "  </thead>\n",
       "  <tbody>\n",
       "    <tr>\n",
       "      <th>count</th>\n",
       "      <td>3473.000000</td>\n",
       "      <td>3473.000000</td>\n",
       "      <td>3.473000e+03</td>\n",
       "      <td>3.473000e+03</td>\n",
       "    </tr>\n",
       "    <tr>\n",
       "      <th>mean</th>\n",
       "      <td>106.774547</td>\n",
       "      <td>2.079758</td>\n",
       "      <td>5.354621e+09</td>\n",
       "      <td>1.784874e+05</td>\n",
       "    </tr>\n",
       "    <tr>\n",
       "      <th>std</th>\n",
       "      <td>69.365567</td>\n",
       "      <td>0.758764</td>\n",
       "      <td>8.104058e+09</td>\n",
       "      <td>2.701353e+05</td>\n",
       "    </tr>\n",
       "    <tr>\n",
       "      <th>min</th>\n",
       "      <td>30.000000</td>\n",
       "      <td>0.000000</td>\n",
       "      <td>3.600000e+06</td>\n",
       "      <td>1.200000e+02</td>\n",
       "    </tr>\n",
       "    <tr>\n",
       "      <th>25%</th>\n",
       "      <td>69.000000</td>\n",
       "      <td>2.000000</td>\n",
       "      <td>1.415000e+09</td>\n",
       "      <td>4.716667e+04</td>\n",
       "    </tr>\n",
       "    <tr>\n",
       "      <th>50%</th>\n",
       "      <td>90.000000</td>\n",
       "      <td>2.000000</td>\n",
       "      <td>2.880000e+09</td>\n",
       "      <td>9.600000e+04</td>\n",
       "    </tr>\n",
       "    <tr>\n",
       "      <th>75%</th>\n",
       "      <td>120.000000</td>\n",
       "      <td>2.000000</td>\n",
       "      <td>6.000000e+09</td>\n",
       "      <td>2.000000e+05</td>\n",
       "    </tr>\n",
       "    <tr>\n",
       "      <th>max</th>\n",
       "      <td>929.000000</td>\n",
       "      <td>5.000000</td>\n",
       "      <td>9.240000e+10</td>\n",
       "      <td>3.080000e+06</td>\n",
       "    </tr>\n",
       "  </tbody>\n",
       "</table>\n",
       "</div>"
      ],
      "text/plain": [
       "              Area         Room         Price    Price(USD)\n",
       "count  3473.000000  3473.000000  3.473000e+03  3.473000e+03\n",
       "mean    106.774547     2.079758  5.354621e+09  1.784874e+05\n",
       "std      69.365567     0.758764  8.104058e+09  2.701353e+05\n",
       "min      30.000000     0.000000  3.600000e+06  1.200000e+02\n",
       "25%      69.000000     2.000000  1.415000e+09  4.716667e+04\n",
       "50%      90.000000     2.000000  2.880000e+09  9.600000e+04\n",
       "75%     120.000000     2.000000  6.000000e+09  2.000000e+05\n",
       "max     929.000000     5.000000  9.240000e+10  3.080000e+06"
      ]
     },
     "execution_count": 60,
     "metadata": {},
     "output_type": "execute_result"
    }
   ],
   "source": [
    "data.describe()"
   ]
  },
  {
   "cell_type": "code",
   "execution_count": 54,
   "id": "ffd578bc",
   "metadata": {},
   "outputs": [],
   "source": [
    "lst = []\n",
    "for i in data.Area:\n",
    "    if ',' in i:\n",
    "        lst.append(data[data['Area'] == i].index[0])"
   ]
  },
  {
   "cell_type": "code",
   "execution_count": 55,
   "id": "4c2b5a6d",
   "metadata": {},
   "outputs": [
    {
     "data": {
      "text/plain": [
       "[570, 709, 807, 1604, 2171, 2802]"
      ]
     },
     "execution_count": 55,
     "metadata": {},
     "output_type": "execute_result"
    }
   ],
   "source": [
    "lst"
   ]
  },
  {
   "cell_type": "code",
   "execution_count": 56,
   "id": "dd33ff0f",
   "metadata": {},
   "outputs": [],
   "source": [
    "data = data.drop(lst)"
   ]
  },
  {
   "cell_type": "code",
   "execution_count": 58,
   "id": "936b84f1",
   "metadata": {},
   "outputs": [],
   "source": [
    "data['Area'] = data['Area'].astype('int64')"
   ]
  },
  {
   "cell_type": "code",
   "execution_count": 63,
   "id": "2b434fa7",
   "metadata": {},
   "outputs": [
    {
     "data": {
      "image/png": "[encoded data removed]",
      "text/plain": [
       "<Figure size 640x480 with 4 Axes>"
      ]
     },
     "metadata": {},
     "output_type": "display_data"
    }
   ],
   "source": [
    "data.hist()\n",
    "plt.show()"
   ]
  },
  {
   "cell_type": "code",
   "execution_count": 78,
   "id": "a20926e5",
   "metadata": {},
   "outputs": [
    {
     "data": {
      "image/png": "[encoded data removed]",
      "text/plain": [
       "<Figure size 640x480 with 1 Axes>"
      ]
     },
     "metadata": {},
     "output_type": "display_data"
    }
   ],
   "source": [
    "plt.scatter(data['Area'],data['Price'])\n",
    "plt.xlabel('Area')\n",
    "plt.ylabel('Price')\n",
    "plt.show()"
   ]
  },
  {
   "cell_type": "code",
   "execution_count": 79,
   "id": "46943a2e",
   "metadata": {},
   "outputs": [
    {
     "data": {
      "image/png": "[encoded data removed]",
      "text/plain": [
       "<Figure size 640x480 with 1 Axes>"
      ]
     },
     "metadata": {},
     "output_type": "display_data"
    }
   ],
   "source": [
    "plt.scatter(data['Room'],data['Price'])\n",
    "plt.xlabel('Room')\n",
    "plt.ylabel('Price')\n",
    "plt.show()"
   ]
  },
  {
   "cell_type": "code",
   "execution_count": 95,
   "id": "54c7db42",
   "metadata": {},
   "outputs": [],
   "source": [
    "cdf = data[['Area','Price']]\n",
    "\n",
    "msk = np.random.rand(len(data)) < 0.8\n",
    "train = cdf[msk]\n",
    "test = cdf[~msk]"
   ]
  },
  {
   "cell_type": "code",
   "execution_count": 97,
   "id": "28bb7be5",
   "metadata": {},
   "outputs": [
    {
     "data": {
      "image/png": "[encoded data removed]",
      "text/plain": [
       "<Figure size 640x480 with 1 Axes>"
      ]
     },
     "metadata": {},
     "output_type": "display_data"
    }
   ],
   "source": [
    "train_x = train[['Area']]\n",
    "train_y = train[['Price']]\n",
    "\n",
    "test_x = test[['Area']]\n",
    "test_y = test[['Price']]\n",
    "\n",
    "fig = plt.figure()\n",
    "ax1 = fig.add_subplot(111)\n",
    "ax1.scatter(train_x,train_y,color='blue')\n",
    "ax1.scatter(test_x,test_y,color='red')\n",
    "plt.xlabel('Area')\n",
    "plt.ylabel('Price')\n",
    "plt.show()"
   ]
  },
  {
   "cell_type": "code",
   "execution_count": 98,
   "id": "1d403bfe",
   "metadata": {},
   "outputs": [
    {
     "data": {
      "text/html": [
       "<style>#sk-container-id-2 {color: black;background-color: white;}#sk-container-id-2 pre{padding: 0;}#sk-container-id-2 div.sk-toggleable {background-color: white;}#sk-container-id-2 label.sk-toggleable__label {cursor: pointer;display: block;width: 100%;margin-bottom: 0;padding: 0.3em;box-sizing: border-box;text-align: center;}#sk-container-id-2 label.sk-toggleable__label-arrow:before {content: \"▸\";float: left;margin-right: 0.25em;color: #696969;}#sk-container-id-2 label.sk-toggleable__label-arrow:hover:before {color: black;}#sk-container-id-2 div.sk-estimator:hover label.sk-toggleable__label-arrow:before {color: black;}#sk-container-id-2 div.sk-toggleable__content {max-height: 0;max-width: 0;overflow: hidden;text-align: left;background-color: #f0f8ff;}#sk-container-id-2 div.sk-toggleable__content pre {margin: 0.2em;color: black;border-radius: 0.25em;background-color: #f0f8ff;}#sk-container-id-2 input.sk-toggleable__control:checked~div.sk-toggleable__content {max-height: 200px;max-width: 100%;overflow: auto;}#sk-container-id-2 input.sk-toggleable__control:checked~label.sk-toggleable__label-arrow:before {content: \"▾\";}#sk-container-id-2 div.sk-estimator input.sk-toggleable__control:checked~label.sk-toggleable__label {background-color: #d4ebff;}#sk-container-id-2 div.sk-label input.sk-toggleable__control:checked~label.sk-toggleable__label {background-color: #d4ebff;}#sk-container-id-2 input.sk-hidden--visually {border: 0;clip: rect(1px 1px 1px 1px);clip: rect(1px, 1px, 1px, 1px);height: 1px;margin: -1px;overflow: hidden;padding: 0;position: absolute;width: 1px;}#sk-container-id-2 div.sk-estimator {font-family: monospace;background-color: #f0f8ff;border: 1px dotted black;border-radius: 0.25em;box-sizing: border-box;margin-bottom: 0.5em;}#sk-container-id-2 div.sk-estimator:hover {background-color: #d4ebff;}#sk-container-id-2 div.sk-parallel-item::after {content: \"\";width: 100%;border-bottom: 1px solid gray;flex-grow: 1;}#sk-container-id-2 div.sk-label:hover label.sk-toggleable__label {background-color: #d4ebff;}#sk-container-id-2 div.sk-serial::before {content: \"\";position: absolute;border-left: 1px solid gray;box-sizing: border-box;top: 0;bottom: 0;left: 50%;z-index: 0;}#sk-container-id-2 div.sk-serial {display: flex;flex-direction: column;align-items: center;background-color: white;padding-right: 0.2em;padding-left: 0.2em;position: relative;}#sk-container-id-2 div.sk-item {position: relative;z-index: 1;}#sk-container-id-2 div.sk-parallel {display: flex;align-items: stretch;justify-content: center;background-color: white;position: relative;}#sk-container-id-2 div.sk-item::before, #sk-container-id-2 div.sk-parallel-item::before {content: \"\";position: absolute;border-left: 1px solid gray;box-sizing: border-box;top: 0;bottom: 0;left: 50%;z-index: -1;}#sk-container-id-2 div.sk-parallel-item {display: flex;flex-direction: column;z-index: 1;position: relative;background-color: white;}#sk-container-id-2 div.sk-parallel-item:first-child::after {align-self: flex-end;width: 50%;}#sk-container-id-2 div.sk-parallel-item:last-child::after {align-self: flex-start;width: 50%;}#sk-container-id-2 div.sk-parallel-item:only-child::after {width: 0;}#sk-container-id-2 div.sk-dashed-wrapped {border: 1px dashed gray;margin: 0 0.4em 0.5em 0.4em;box-sizing: border-box;padding-bottom: 0.4em;background-color: white;}#sk-container-id-2 div.sk-label label {font-family: monospace;font-weight: bold;display: inline-block;line-height: 1.2em;}#sk-container-id-2 div.sk-label-container {text-align: center;}#sk-container-id-2 div.sk-container {/* jupyter's `normalize.less` sets `[hidden] { display: none; }` but bootstrap.min.css set `[hidden] { display: none !important; }` so we also need the `!important` here to be able to override the default hidden behavior on the sphinx rendered scikit-learn.org. See: https://github.com/scikit-learn/scikit-learn/issues/21755 */display: inline-block !important;position: relative;}#sk-container-id-2 div.sk-text-repr-fallback {display: none;}</style><div id=\"sk-container-id-2\" class=\"sk-top-container\"><div class=\"sk-text-repr-fallback\"><pre>LinearRegression()</pre><b>In a Jupyter environment, please rerun this cell to show the HTML representation or trust the notebook. <br />On GitHub, the HTML representation is unable to render, please try loading this page with nbviewer.org.</b></div><div class=\"sk-container\" hidden><div class=\"sk-item\"><div class=\"sk-estimator sk-toggleable\"><input class=\"sk-toggleable__control sk-hidden--visually\" id=\"sk-estimator-id-2\" type=\"checkbox\" checked><label for=\"sk-estimator-id-2\" class=\"sk-toggleable__label sk-toggleable__label-arrow\">LinearRegression</label><div class=\"sk-toggleable__content\"><pre>LinearRegression()</pre></div></div></div></div></div>"
      ],
      "text/plain": [
       "LinearRegression()"
      ]
     },
     "execution_count": 98,
     "metadata": {},
     "output_type": "execute_result"
    }
   ],
   "source": [
    "from sklearn.linear_model import LinearRegression\n",
    "\n",
    "regr = LinearRegression()\n",
    "\n",
    "regr.fit(train_x,train_y)"
   ]
  },
  {
   "cell_type": "code",
   "execution_count": 99,
   "id": "bc0def95",
   "metadata": {},
   "outputs": [
    {
     "name": "stdout",
     "output_type": "stream",
     "text": [
      "Regression Coeffecients: [[84005692.03961009]]\n",
      "Regression Intercept: [-3.62500067e+09]\n"
     ]
    }
   ],
   "source": [
    "print(f'Regression Coeffecients: {regr.coef_}')\n",
    "print(f'Regression Intercept: {regr.intercept_}')"
   ]
  },
  {
   "cell_type": "code",
   "execution_count": 100,
   "id": "c8c94c8c",
   "metadata": {},
   "outputs": [
    {
     "data": {
      "image/png": "[encoded data removed]",
      "text/plain": [
       "<Figure size 640x480 with 1 Axes>"
      ]
     },
     "metadata": {},
     "output_type": "display_data"
    }
   ],
   "source": [
    "fig = plt.figure()\n",
    "ax1 = fig.add_subplot(111)\n",
    "ax1.scatter(train_x,train_y,color='blue')\n",
    "ax1.plot(train_x,regr.intercept_[0] + regr.coef_[0][0]*train_x,color='red')\n",
    "plt.xlabel('Area')\n",
    "plt.ylabel('Price')\n",
    "plt.show()"
   ]
  },
  {
   "cell_type": "code",
   "execution_count": 103,
   "id": "a688ad4a",
   "metadata": {},
   "outputs": [
    {
     "name": "stdout",
     "output_type": "stream",
     "text": [
      "R2-Score: 0.5093599050440327\n"
     ]
    }
   ],
   "source": [
    "from sklearn.metrics import r2_score\n",
    "test_y_ = regr.predict(test_x)\n",
    "\n",
    "print(f'R2-Score: {r2_score(test_y,test_y_)}')"
   ]
  },
  {
   "cell_type": "markdown",
   "id": "3a1457bb",
   "metadata": {},
   "source": [
    "## Multiple Regression"
   ]
  },
  {
   "cell_type": "code",
   "execution_count": 163,
   "id": "8028031a",
   "metadata": {
    "scrolled": true
   },
   "outputs": [],
   "source": [
    "addresses = data['Address'].unique()"
   ]
  },
  {
   "cell_type": "code",
   "execution_count": 169,
   "id": "c5090962",
   "metadata": {},
   "outputs": [],
   "source": [
    "mapped = {}\n",
    "mapped = {addresses[i]:i for i in range(len(addresses))}"
   ]
  },
  {
   "cell_type": "code",
   "execution_count": 170,
   "id": "5f5e3480",
   "metadata": {},
   "outputs": [
    {
     "data": {
      "text/plain": [
       "{'Shahran': 0,\n",
       " 'Pardis': 1,\n",
       " 'Shahrake Qods': 2,\n",
       " 'Shahrake Gharb': 3,\n",
       " 'North Program Organization': 4,\n",
       " 'Andisheh': 5,\n",
       " 'West Ferdows Boulevard': 6,\n",
       " 'Narmak': 7,\n",
       " 'Saadat Abad': 8,\n",
       " 'Zafar': 9,\n",
       " 'Islamshahr': 10,\n",
       " 'Pirouzi': 11,\n",
       " 'Shahrake Shahid Bagheri': 12,\n",
       " 'Moniriyeh': 13,\n",
       " 'Velenjak': 14,\n",
       " 'Amirieh': 15,\n",
       " 'Southern Janatabad': 16,\n",
       " 'Salsabil': 17,\n",
       " 'Zargandeh': 18,\n",
       " 'Feiz Garden': 19,\n",
       " 'Water Organization': 20,\n",
       " nan: 21,\n",
       " 'ShahrAra': 22,\n",
       " 'Gisha': 23,\n",
       " 'Ray': 24,\n",
       " 'Abbasabad': 25,\n",
       " 'Ostad Moein': 26,\n",
       " 'Farmanieh': 27,\n",
       " 'Parand': 28,\n",
       " 'Punak': 29,\n",
       " 'Qasr-od-Dasht': 30,\n",
       " 'Aqdasieh': 31,\n",
       " 'Pakdasht': 32,\n",
       " 'Railway': 33,\n",
       " 'Central Janatabad': 34,\n",
       " 'East Ferdows Boulevard': 35,\n",
       " 'Pakdasht KhatunAbad': 36,\n",
       " 'Sattarkhan': 37,\n",
       " 'Baghestan': 38,\n",
       " 'Shahryar': 39,\n",
       " 'Northern Janatabad': 40,\n",
       " 'Daryan No': 41,\n",
       " 'Southern Program Organization': 42,\n",
       " 'Rudhen': 43,\n",
       " 'West Pars': 44,\n",
       " 'Afsarieh': 45,\n",
       " 'Marzdaran': 46,\n",
       " 'Dorous': 47,\n",
       " 'Sadeghieh': 48,\n",
       " 'Chahardangeh': 49,\n",
       " 'Baqershahr': 50,\n",
       " 'Jeyhoon': 51,\n",
       " 'Lavizan': 52,\n",
       " 'Shams Abad': 53,\n",
       " 'Fatemi': 54,\n",
       " 'Keshavarz Boulevard': 55,\n",
       " 'Kahrizak': 56,\n",
       " 'Qarchak': 57,\n",
       " 'Northren Jamalzadeh': 58,\n",
       " 'Azarbaijan': 59,\n",
       " 'Bahar': 60,\n",
       " 'Persian Gulf Martyrs Lake': 61,\n",
       " 'Beryanak': 62,\n",
       " 'Heshmatieh': 63,\n",
       " 'Elm-o-Sanat': 64,\n",
       " 'Golestan': 65,\n",
       " 'Shahr-e-Ziba': 66,\n",
       " 'Pasdaran': 67,\n",
       " 'Chardivari': 68,\n",
       " 'Gheitarieh': 69,\n",
       " 'Kamranieh': 70,\n",
       " 'Gholhak': 71,\n",
       " 'Heravi': 72,\n",
       " 'Hashemi': 73,\n",
       " 'Dehkade Olampic': 74,\n",
       " 'Damavand': 75,\n",
       " 'Republic': 76,\n",
       " 'Zaferanieh': 77,\n",
       " 'Qazvin Imamzadeh Hassan': 78,\n",
       " 'Niavaran': 79,\n",
       " 'Valiasr': 80,\n",
       " 'Qalandari': 81,\n",
       " 'Amir Bahador': 82,\n",
       " 'Ekhtiarieh': 83,\n",
       " 'Ekbatan': 84,\n",
       " 'Absard': 85,\n",
       " 'Haft Tir': 86,\n",
       " 'Mahallati': 87,\n",
       " 'Ozgol': 88,\n",
       " 'Tajrish': 89,\n",
       " 'Abazar': 90,\n",
       " 'Koohsar': 91,\n",
       " 'Hekmat': 92,\n",
       " 'Parastar': 93,\n",
       " 'Lavasan': 94,\n",
       " 'Majidieh': 95,\n",
       " 'Southern Chitgar': 96,\n",
       " 'Karimkhan': 97,\n",
       " 'Si Metri Ji': 98,\n",
       " 'Karoon': 99,\n",
       " 'Northern Chitgar': 100,\n",
       " 'East Pars': 101,\n",
       " 'Kook': 102,\n",
       " 'Air force': 103,\n",
       " 'Sohanak': 104,\n",
       " 'Komeil': 105,\n",
       " 'Azadshahr': 106,\n",
       " 'Zibadasht': 107,\n",
       " 'Amirabad': 108,\n",
       " 'Dezashib': 109,\n",
       " 'Elahieh': 110,\n",
       " 'Mirdamad': 111,\n",
       " 'Razi': 112,\n",
       " 'Jordan': 113,\n",
       " 'Mahmoudieh': 114,\n",
       " 'Shahedshahr': 115,\n",
       " 'Yaftabad': 116,\n",
       " 'Mehran': 117,\n",
       " 'Nasim Shahr': 118,\n",
       " 'Tenant': 119,\n",
       " 'Chardangeh': 120,\n",
       " 'Fallah': 121,\n",
       " 'Eskandari': 122,\n",
       " 'Shahrakeh Naft': 123,\n",
       " 'Ajudaniye': 124,\n",
       " 'Tehransar': 125,\n",
       " 'Nawab': 126,\n",
       " 'Yousef Abad': 127,\n",
       " 'Northern Suhrawardi': 128,\n",
       " 'Villa': 129,\n",
       " 'Hakimiyeh': 130,\n",
       " 'Nezamabad': 131,\n",
       " 'Garden of Saba': 132,\n",
       " 'Tarasht': 133,\n",
       " 'Azari': 134,\n",
       " 'Shahrake Apadana': 135,\n",
       " 'Araj': 136,\n",
       " 'Vahidieh': 137,\n",
       " 'Malard': 138,\n",
       " 'Shahrake Azadi': 139,\n",
       " 'Darband': 140,\n",
       " 'Vanak': 141,\n",
       " 'Tehran Now': 142,\n",
       " 'Darabad': 143,\n",
       " 'Eram': 144,\n",
       " 'Atabak': 145,\n",
       " 'Sabalan': 146,\n",
       " 'SabaShahr': 147,\n",
       " 'Shahrake Madaen': 148,\n",
       " 'Waterfall': 149,\n",
       " 'Ahang': 150,\n",
       " 'Salehabad': 151,\n",
       " 'Pishva': 152,\n",
       " 'Enghelab': 153,\n",
       " 'Islamshahr Elahieh': 154,\n",
       " 'Ray - Montazeri': 155,\n",
       " 'Firoozkooh Kuhsar': 156,\n",
       " 'Ghoba': 157,\n",
       " 'Mehrabad': 158,\n",
       " 'Southern Suhrawardi': 159,\n",
       " 'Abuzar': 160,\n",
       " 'Dolatabad': 161,\n",
       " 'Hor Square': 162,\n",
       " 'Taslihat': 163,\n",
       " 'Kazemabad': 164,\n",
       " 'Robat Karim': 165,\n",
       " 'Ray - Pilgosh': 166,\n",
       " 'Ghiyamdasht': 167,\n",
       " 'Telecommunication': 168,\n",
       " 'Mirza Shirazi': 169,\n",
       " 'Gandhi': 170,\n",
       " 'Argentina': 171,\n",
       " 'Seyed Khandan': 172,\n",
       " 'Shahrake Quds': 173,\n",
       " 'Safadasht': 174,\n",
       " 'Khademabad Garden': 175,\n",
       " 'Hassan Abad': 176,\n",
       " 'Chidz': 177,\n",
       " 'Khavaran': 178,\n",
       " 'Boloorsazi': 179,\n",
       " 'Mehrabad River River': 180,\n",
       " 'Varamin - Beheshti': 181,\n",
       " 'Shoosh': 182,\n",
       " 'Thirteen November': 183,\n",
       " 'Darakeh': 184,\n",
       " 'Aliabad South': 185,\n",
       " 'Alborz Complex': 186,\n",
       " 'Firoozkooh': 187,\n",
       " 'Vahidiyeh': 188,\n",
       " 'Shadabad': 189,\n",
       " 'Naziabad': 190,\n",
       " 'Javadiyeh': 191,\n",
       " 'Yakhchiabad': 192}"
      ]
     },
     "execution_count": 170,
     "metadata": {},
     "output_type": "execute_result"
    }
   ],
   "source": [
    "mapped"
   ]
  },
  {
   "cell_type": "code",
   "execution_count": 171,
   "id": "47e6d1d2",
   "metadata": {},
   "outputs": [],
   "source": [
    "data['Address'] = data['Address'].replace(mapped)"
   ]
  },
  {
   "cell_type": "code",
   "execution_count": 189,
   "id": "3a639743",
   "metadata": {},
   "outputs": [
    {
     "data": {
      "text/plain": [
       "array([  0,   1,   2,   3,   4,   5,   6,   7,   8,   9,  10,  11,  12,\n",
       "        13,  14,  15,  16,  17,  18,  19,  20,  21,  22,  23,  24,  25,\n",
       "        26,  27,  28,  29,  30,  31,  32,  33,  34,  35,  36,  37,  38,\n",
       "        39,  40,  41,  42,  43,  44,  45,  46,  47,  48,  49,  50,  51,\n",
       "        52,  53,  54,  55,  56,  57,  58,  59,  60,  61,  62,  63,  64,\n",
       "        65,  66,  67,  68,  69,  70,  71,  72,  73,  74,  75,  76,  77,\n",
       "        78,  79,  80,  81,  82,  83,  84,  85,  86,  87,  88,  89,  90,\n",
       "        91,  92,  93,  94,  95,  96,  97,  98,  99, 100, 101, 102, 103,\n",
       "       104, 105, 106, 107, 108, 109, 110, 111, 112, 113, 114, 115, 116,\n",
       "       117, 118, 119, 120, 121, 122, 123, 124, 125, 126, 127, 128, 129,\n",
       "       130, 131, 132, 133, 134, 135, 136, 137, 138, 139, 140, 141, 142,\n",
       "       143, 144, 145, 146, 147, 148, 149, 150, 151, 152, 153, 154, 155,\n",
       "       156, 157, 158, 159, 160, 161, 162, 163, 164, 165, 166, 167, 168,\n",
       "       169, 170, 171, 172, 173, 174, 175, 176, 177, 178, 179, 180, 181,\n",
       "       182, 183, 184, 185, 186, 187, 188, 189, 190, 191, 192], dtype=int64)"
      ]
     },
     "execution_count": 189,
     "metadata": {},
     "output_type": "execute_result"
    }
   ],
   "source": [
    "data['Address'].unique()"
   ]
  },
  {
   "cell_type": "code",
   "execution_count": 183,
   "id": "751e16aa",
   "metadata": {},
   "outputs": [],
   "source": [
    "cut_df = data[['Area','Address','Price']]\n",
    "\n",
    "msk = np.random.rand(len(data)) < 0.8\n",
    "train = cut_df[msk]\n",
    "test = cut_df[~msk]"
   ]
  },
  {
   "cell_type": "code",
   "execution_count": 184,
   "id": "fca930c8",
   "metadata": {},
   "outputs": [],
   "source": [
    "train_x = train[['Area','Address']]\n",
    "train_y = train[['Price']]\n",
    "\n",
    "test_x = test[['Area','Address']]\n",
    "test_y = test[['Price']]\n"
   ]
  },
  {
   "cell_type": "code",
   "execution_count": 185,
   "id": "b88e3c06",
   "metadata": {},
   "outputs": [
    {
     "data": {
      "text/html": [
       "<style>#sk-container-id-13 {color: black;background-color: white;}#sk-container-id-13 pre{padding: 0;}#sk-container-id-13 div.sk-toggleable {background-color: white;}#sk-container-id-13 label.sk-toggleable__label {cursor: pointer;display: block;width: 100%;margin-bottom: 0;padding: 0.3em;box-sizing: border-box;text-align: center;}#sk-container-id-13 label.sk-toggleable__label-arrow:before {content: \"▸\";float: left;margin-right: 0.25em;color: #696969;}#sk-container-id-13 label.sk-toggleable__label-arrow:hover:before {color: black;}#sk-container-id-13 div.sk-estimator:hover label.sk-toggleable__label-arrow:before {color: black;}#sk-container-id-13 div.sk-toggleable__content {max-height: 0;max-width: 0;overflow: hidden;text-align: left;background-color: #f0f8ff;}#sk-container-id-13 div.sk-toggleable__content pre {margin: 0.2em;color: black;border-radius: 0.25em;background-color: #f0f8ff;}#sk-container-id-13 input.sk-toggleable__control:checked~div.sk-toggleable__content {max-height: 200px;max-width: 100%;overflow: auto;}#sk-container-id-13 input.sk-toggleable__control:checked~label.sk-toggleable__label-arrow:before {content: \"▾\";}#sk-container-id-13 div.sk-estimator input.sk-toggleable__control:checked~label.sk-toggleable__label {background-color: #d4ebff;}#sk-container-id-13 div.sk-label input.sk-toggleable__control:checked~label.sk-toggleable__label {background-color: #d4ebff;}#sk-container-id-13 input.sk-hidden--visually {border: 0;clip: rect(1px 1px 1px 1px);clip: rect(1px, 1px, 1px, 1px);height: 1px;margin: -1px;overflow: hidden;padding: 0;position: absolute;width: 1px;}#sk-container-id-13 div.sk-estimator {font-family: monospace;background-color: #f0f8ff;border: 1px dotted black;border-radius: 0.25em;box-sizing: border-box;margin-bottom: 0.5em;}#sk-container-id-13 div.sk-estimator:hover {background-color: #d4ebff;}#sk-container-id-13 div.sk-parallel-item::after {content: \"\";width: 100%;border-bottom: 1px solid gray;flex-grow: 1;}#sk-container-id-13 div.sk-label:hover label.sk-toggleable__label {background-color: #d4ebff;}#sk-container-id-13 div.sk-serial::before {content: \"\";position: absolute;border-left: 1px solid gray;box-sizing: border-box;top: 0;bottom: 0;left: 50%;z-index: 0;}#sk-container-id-13 div.sk-serial {display: flex;flex-direction: column;align-items: center;background-color: white;padding-right: 0.2em;padding-left: 0.2em;position: relative;}#sk-container-id-13 div.sk-item {position: relative;z-index: 1;}#sk-container-id-13 div.sk-parallel {display: flex;align-items: stretch;justify-content: center;background-color: white;position: relative;}#sk-container-id-13 div.sk-item::before, #sk-container-id-13 div.sk-parallel-item::before {content: \"\";position: absolute;border-left: 1px solid gray;box-sizing: border-box;top: 0;bottom: 0;left: 50%;z-index: -1;}#sk-container-id-13 div.sk-parallel-item {display: flex;flex-direction: column;z-index: 1;position: relative;background-color: white;}#sk-container-id-13 div.sk-parallel-item:first-child::after {align-self: flex-end;width: 50%;}#sk-container-id-13 div.sk-parallel-item:last-child::after {align-self: flex-start;width: 50%;}#sk-container-id-13 div.sk-parallel-item:only-child::after {width: 0;}#sk-container-id-13 div.sk-dashed-wrapped {border: 1px dashed gray;margin: 0 0.4em 0.5em 0.4em;box-sizing: border-box;padding-bottom: 0.4em;background-color: white;}#sk-container-id-13 div.sk-label label {font-family: monospace;font-weight: bold;display: inline-block;line-height: 1.2em;}#sk-container-id-13 div.sk-label-container {text-align: center;}#sk-container-id-13 div.sk-container {/* jupyter's `normalize.less` sets `[hidden] { display: none; }` but bootstrap.min.css set `[hidden] { display: none !important; }` so we also need the `!important` here to be able to override the default hidden behavior on the sphinx rendered scikit-learn.org. See: https://github.com/scikit-learn/scikit-learn/issues/21755 */display: inline-block !important;position: relative;}#sk-container-id-13 div.sk-text-repr-fallback {display: none;}</style><div id=\"sk-container-id-13\" class=\"sk-top-container\"><div class=\"sk-text-repr-fallback\"><pre>LinearRegression()</pre><b>In a Jupyter environment, please rerun this cell to show the HTML representation or trust the notebook. <br />On GitHub, the HTML representation is unable to render, please try loading this page with nbviewer.org.</b></div><div class=\"sk-container\" hidden><div class=\"sk-item\"><div class=\"sk-estimator sk-toggleable\"><input class=\"sk-toggleable__control sk-hidden--visually\" id=\"sk-estimator-id-13\" type=\"checkbox\" checked><label for=\"sk-estimator-id-13\" class=\"sk-toggleable__label sk-toggleable__label-arrow\">LinearRegression</label><div class=\"sk-toggleable__content\"><pre>LinearRegression()</pre></div></div></div></div></div>"
      ],
      "text/plain": [
       "LinearRegression()"
      ]
     },
     "execution_count": 185,
     "metadata": {},
     "output_type": "execute_result"
    }
   ],
   "source": [
    "multiple_regr = LinearRegression()\n",
    "\n",
    "multiple_regr.fit(train_x,train_y)"
   ]
  },
  {
   "cell_type": "code",
   "execution_count": 186,
   "id": "5ce54e7a",
   "metadata": {},
   "outputs": [
    {
     "name": "stdout",
     "output_type": "stream",
     "text": [
      "Regression Coeffecients: [[79594696.52874029  7281050.29502205]]\n",
      "Regression Intercept: [-3.58806645e+09]\n"
     ]
    }
   ],
   "source": [
    "print(f'Regression Coeffecients: {multiple_regr.coef_}')\n",
    "print(f'Regression Intercept: {multiple_regr.intercept_}')"
   ]
  },
  {
   "cell_type": "code",
   "execution_count": 187,
   "id": "6243ec7a",
   "metadata": {},
   "outputs": [
    {
     "name": "stdout",
     "output_type": "stream",
     "text": [
      "R2-Score: 0.5131054370225554\n"
     ]
    }
   ],
   "source": [
    "test_y_ = multiple_regr.predict(test_x)\n",
    "\n",
    "print(f'R2-Score: {r2_score(test_y,test_y_)}')"
   ]
  }
 ],
 "metadata": {
  "kernelspec": {
   "display_name": "Python 3 (ipykernel)",
   "language": "python",
   "name": "python3"
  },
  "language_info": {
   "codemirror_mode": {
    "name": "ipython",
    "version": 3
   },
   "file_extension": ".py",
   "mimetype": "text/x-python",
   "name": "python",
   "nbconvert_exporter": "python",
   "pygments_lexer": "ipython3",
   "version": "3.10.8"
  }
 },
 "nbformat": 4,
 "nbformat_minor": 5
}
